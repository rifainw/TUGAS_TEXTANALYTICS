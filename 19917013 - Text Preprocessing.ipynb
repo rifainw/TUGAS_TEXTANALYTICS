{
 "cells": [
  {
   "cell_type": "code",
   "execution_count": 247,
   "metadata": {},
   "outputs": [],
   "source": [
    "# Mengimpor library yang dibutuhkan\n",
    "\n",
    "import numpy as np\n",
    "import pandas as pd\n",
    "import re\n",
    "from stop_words import get_stop_words"
   ]
  },
  {
   "cell_type": "code",
   "execution_count": 248,
   "metadata": {},
   "outputs": [],
   "source": [
    "# Memasukkkan file data teks\n",
    "txt = open(r'C:/Rifai/Text Analytics/tweet-data.txt',\"r\").read()"
   ]
  },
  {
   "cell_type": "code",
   "execution_count": 249,
   "metadata": {},
   "outputs": [
    {
     "data": {
      "text/plain": [
       "\"Siang, bisa langsung ditanyakan ke Kebidanan FK UB. Terima kasih. https://t.co/5P0KDHlK9r\\nJadwal Kegiatan Dies Natalis ke-54 UB. Catat tanggalnya dan semarakkan acaranya. https://t.co/YZpBV1YFJK\\nComing soon : Rangkaian Acara Dies Natalis ke-54 Universitas Brawijaya https://t.co/5xgu0Gj828\\nRT @UB_IO: Beasiswa AMINEF Untuk Pengajar Bahasa Inggris di UB. Deadline aplikasi tanggal 15 April 2017 https://t.co/Kg5Ked96bf @UB_Official\\nRT @UB_IO: Beasiswa untuk Training dan Studi Lanjut ke Belgia. @UB_Official @UBTV_Brawijaya https://t.co/eEHYiNzbrf\\nRT @UB_IT: Periksa Soal: cek jawaban kamu.Untuk kembali ke soal,klik nomornya.Tombol SELESAI di klik jika semua soal sudah dijawab &amp; nilaiâ€¦\\nRT @UB_IT: Tes kompetensi TI selama 90 menit/90 soal (30 Excel,30 P.Point,30 Word). Soal tiap orang berbeda krn bank soal lebih dari 3000.â€¦\\nRT @UnileverIDN: Prosesi penutupan Bulan Kesehatan Gigi Nasional 2016 di FKG Univ Brawijaya #BKGN #Pepsodent @UB_Official @TanyaPepsodent @â€¦\\nSelamat siang. Untuk jadwal penerimaan mahasiswa S2 bisa dilihat di https://t.co/1Uuv3lGe1O atau diâ€¦ https://t.co/CYvxFREg3M\\nRT @kempanrb: bersama Korpri meneguhkan netralitas dan meningkatkan profesionalisme Aparatur Sipil Negara. Selamat HUT KORPRI ke 45!! httpsâ€¦\\nRT @UB_IO: Sosialisasi Studi S2 dan Beasiswa dari Swedia. hari ini, 16.00-17.00 di Lt.8 Rektorat UB, Free entry, kuota terbatas 150 kursi.â€¦\\nRT @UB_IO: Kesempatan terbaru untuk studi S2 dan S3 di luar negeri dengan beasiswa. Informasi lebih lengkap https://t.co/u0RkZJTtsV @UB_Offâ€¦\\nRT @UB_IO: Don't forget, British Winter Education Fair, Today 13.00 at Gedung Kebudayaan Mahasiswa UB https://t.co/dsel5k3Ii9 @UB_Official\\nRT @UB_IO: Program Pertukaran Pelajar dari AMINEF untuk D1, D3 dan S1 https://t.co/rwV7N7sAX6 @UB_Official\\nRT @UB_IO: Fullbright Scholarship untuk S2 dan S3 telah dibuka, silahkan mengunjungi https://t.co/FbNchPlT9W @UB_Official\\nRT @UB_IO: British Winter Education Fair. Don't miss it. Scholarships info and many more @UB_Official @UBTV_Brawijaya https://t.co/iA0e6uHBâ€¦\\nRT @UB_IO: International Student Summit adalah agenda tahunan DIKTI untuk kompetisi mahasiswa asing dan lokal se-Indonesia @UB_Official\\nRT @UB_IO: Sosialisasi International Student Summit and Competition by UNAIR. Hari ini Kamis 13/10/16 pukul 12.00, di Lt8 Rektorat. Free. @â€¦\\nRT @UB_IT: Pengumuman Jadwal Test Sertifikasi Kompetensi TI Gelombang 54\\nhttps://t.co/vhHiWN0ENq\\nRT @UB_IO: Nuffic Neso dan DAAD menawarkan beasiswa pendidikan untuk S1 hingga S3, summer course, dan pelatihan https://t.co/u0RkZJTtsV @UBâ€¦\\nRT @UB_IO: Salah satu partner UB, Ritsumeikan University membuka Short-term Exchange Program https://t.co/fc4FcPASoN @UB_Official\\nRektor : selamat dan berbahagialah menjadi bagian dari 12.000 mahasiswa baru UB. Selamat belajar. #RajaBrawijaya2016 #Pusaka54\\nPelepasan balon oleh Rektor dan Dirjen dari Kemenristekdikti https://t.co/kBReodtkIk\\nDengan dibunyikannya gong, secara resmi telah dimulainya pelaksanaan PKK-Maba 2016 #RajaBrawijaya2016 #Pusaka54 https://t.co/Xe7Hfj3TqO\\nRektor Universitas Brawijaya beserta jajaran dan undangan memasuki lapangan upacara #RajaBrawijaya2016 #Pusaka54\\nAyo Dukung! https://t.co/ZuCSWMojex\\n#INFO 4. Pintu gerbang dibuka pada Selasa, 30 Agustus 2016, pukul 09.00 WIB-15.30 WIB dan 17.00 WIB-selesai #RajaBrawijaya2016\\n#INFO 3. Pintu Gerbang keluar yang dibuka : Pintu Gerbang Pos Veteran dan Pintu Gerbang Pos BNI'46 #RajaBrawijaya2016\\n#INFO 2. Penutupan dilaksanakan pada hari : Selasa, 30 Agustus 2016, pukul 06.30-09.00 WIB dan 15.30-17.00 WIB #RajaBrawijaya2016\\n#INFO 1. Penutupan jalan masuk pada : Pintu Gerbang Pos Veteran, Pos BNI'46, Pos Jl, M. Haryono (Makam) dan Pos KPRI #RajaBrawijaya2016\\n#INFO Sehubungan dengan akan diselenggarakannya PKK-Maba #RajaBrawijaya2016 dengan ini diberitahukan bahwa :\\n\""
      ]
     },
     "execution_count": 249,
     "metadata": {},
     "output_type": "execute_result"
    }
   ],
   "source": [
    "# Menampilkan file\n",
    "txt"
   ]
  },
  {
   "cell_type": "code",
   "execution_count": 250,
   "metadata": {},
   "outputs": [],
   "source": [
    "# Menghapus URL\n",
    "txt = re.sub(r\"http\\S+\", \"\", txt)"
   ]
  },
  {
   "cell_type": "code",
   "execution_count": 251,
   "metadata": {},
   "outputs": [
    {
     "data": {
      "text/plain": [
       "\"Siang, bisa langsung ditanyakan ke Kebidanan FK UB. Terima kasih. \\nJadwal Kegiatan Dies Natalis ke-54 UB. Catat tanggalnya dan semarakkan acaranya. \\nComing soon : Rangkaian Acara Dies Natalis ke-54 Universitas Brawijaya \\nRT @UB_IO: Beasiswa AMINEF Untuk Pengajar Bahasa Inggris di UB. Deadline aplikasi tanggal 15 April 2017  @UB_Official\\nRT @UB_IO: Beasiswa untuk Training dan Studi Lanjut ke Belgia. @UB_Official @UBTV_Brawijaya \\nRT @UB_IT: Periksa Soal: cek jawaban kamu.Untuk kembali ke soal,klik nomornya.Tombol SELESAI di klik jika semua soal sudah dijawab &amp; nilaiâ€¦\\nRT @UB_IT: Tes kompetensi TI selama 90 menit/90 soal (30 Excel,30 P.Point,30 Word). Soal tiap orang berbeda krn bank soal lebih dari 3000.â€¦\\nRT @UnileverIDN: Prosesi penutupan Bulan Kesehatan Gigi Nasional 2016 di FKG Univ Brawijaya #BKGN #Pepsodent @UB_Official @TanyaPepsodent @â€¦\\nSelamat siang. Untuk jadwal penerimaan mahasiswa S2 bisa dilihat di  atau diâ€¦ \\nRT @kempanrb: bersama Korpri meneguhkan netralitas dan meningkatkan profesionalisme Aparatur Sipil Negara. Selamat HUT KORPRI ke 45!! \\nRT @UB_IO: Sosialisasi Studi S2 dan Beasiswa dari Swedia. hari ini, 16.00-17.00 di Lt.8 Rektorat UB, Free entry, kuota terbatas 150 kursi.â€¦\\nRT @UB_IO: Kesempatan terbaru untuk studi S2 dan S3 di luar negeri dengan beasiswa. Informasi lebih lengkap  @UB_Offâ€¦\\nRT @UB_IO: Don't forget, British Winter Education Fair, Today 13.00 at Gedung Kebudayaan Mahasiswa UB  @UB_Official\\nRT @UB_IO: Program Pertukaran Pelajar dari AMINEF untuk D1, D3 dan S1  @UB_Official\\nRT @UB_IO: Fullbright Scholarship untuk S2 dan S3 telah dibuka, silahkan mengunjungi  @UB_Official\\nRT @UB_IO: British Winter Education Fair. Don't miss it. Scholarships info and many more @UB_Official @UBTV_Brawijaya \\nRT @UB_IO: International Student Summit adalah agenda tahunan DIKTI untuk kompetisi mahasiswa asing dan lokal se-Indonesia @UB_Official\\nRT @UB_IO: Sosialisasi International Student Summit and Competition by UNAIR. Hari ini Kamis 13/10/16 pukul 12.00, di Lt8 Rektorat. Free. @â€¦\\nRT @UB_IT: Pengumuman Jadwal Test Sertifikasi Kompetensi TI Gelombang 54\\n\\nRT @UB_IO: Nuffic Neso dan DAAD menawarkan beasiswa pendidikan untuk S1 hingga S3, summer course, dan pelatihan  @UBâ€¦\\nRT @UB_IO: Salah satu partner UB, Ritsumeikan University membuka Short-term Exchange Program  @UB_Official\\nRektor : selamat dan berbahagialah menjadi bagian dari 12.000 mahasiswa baru UB. Selamat belajar. #RajaBrawijaya2016 #Pusaka54\\nPelepasan balon oleh Rektor dan Dirjen dari Kemenristekdikti \\nDengan dibunyikannya gong, secara resmi telah dimulainya pelaksanaan PKK-Maba 2016 #RajaBrawijaya2016 #Pusaka54 \\nRektor Universitas Brawijaya beserta jajaran dan undangan memasuki lapangan upacara #RajaBrawijaya2016 #Pusaka54\\nAyo Dukung! \\n#INFO 4. Pintu gerbang dibuka pada Selasa, 30 Agustus 2016, pukul 09.00 WIB-15.30 WIB dan 17.00 WIB-selesai #RajaBrawijaya2016\\n#INFO 3. Pintu Gerbang keluar yang dibuka : Pintu Gerbang Pos Veteran dan Pintu Gerbang Pos BNI'46 #RajaBrawijaya2016\\n#INFO 2. Penutupan dilaksanakan pada hari : Selasa, 30 Agustus 2016, pukul 06.30-09.00 WIB dan 15.30-17.00 WIB #RajaBrawijaya2016\\n#INFO 1. Penutupan jalan masuk pada : Pintu Gerbang Pos Veteran, Pos BNI'46, Pos Jl, M. Haryono (Makam) dan Pos KPRI #RajaBrawijaya2016\\n#INFO Sehubungan dengan akan diselenggarakannya PKK-Maba #RajaBrawijaya2016 dengan ini diberitahukan bahwa :\\n\""
      ]
     },
     "execution_count": 251,
     "metadata": {},
     "output_type": "execute_result"
    }
   ],
   "source": [
    "txt"
   ]
  },
  {
   "cell_type": "code",
   "execution_count": 252,
   "metadata": {},
   "outputs": [],
   "source": [
    "# Case folding : mengonversi teks menjadi huruf kecil\n",
    "txt = txt.lower()"
   ]
  },
  {
   "cell_type": "code",
   "execution_count": 253,
   "metadata": {},
   "outputs": [
    {
     "data": {
      "text/plain": [
       "\"siang, bisa langsung ditanyakan ke kebidanan fk ub. terima kasih. \\njadwal kegiatan dies natalis ke-54 ub. catat tanggalnya dan semarakkan acaranya. \\ncoming soon : rangkaian acara dies natalis ke-54 universitas brawijaya \\nrt @ub_io: beasiswa aminef untuk pengajar bahasa inggris di ub. deadline aplikasi tanggal 15 april 2017  @ub_official\\nrt @ub_io: beasiswa untuk training dan studi lanjut ke belgia. @ub_official @ubtv_brawijaya \\nrt @ub_it: periksa soal: cek jawaban kamu.untuk kembali ke soal,klik nomornya.tombol selesai di klik jika semua soal sudah dijawab &amp; nilaiâ€¦\\nrt @ub_it: tes kompetensi ti selama 90 menit/90 soal (30 excel,30 p.point,30 word). soal tiap orang berbeda krn bank soal lebih dari 3000.â€¦\\nrt @unileveridn: prosesi penutupan bulan kesehatan gigi nasional 2016 di fkg univ brawijaya #bkgn #pepsodent @ub_official @tanyapepsodent @â€¦\\nselamat siang. untuk jadwal penerimaan mahasiswa s2 bisa dilihat di  atau diâ€¦ \\nrt @kempanrb: bersama korpri meneguhkan netralitas dan meningkatkan profesionalisme aparatur sipil negara. selamat hut korpri ke 45!! \\nrt @ub_io: sosialisasi studi s2 dan beasiswa dari swedia. hari ini, 16.00-17.00 di lt.8 rektorat ub, free entry, kuota terbatas 150 kursi.â€¦\\nrt @ub_io: kesempatan terbaru untuk studi s2 dan s3 di luar negeri dengan beasiswa. informasi lebih lengkap  @ub_offâ€¦\\nrt @ub_io: don't forget, british winter education fair, today 13.00 at gedung kebudayaan mahasiswa ub  @ub_official\\nrt @ub_io: program pertukaran pelajar dari aminef untuk d1, d3 dan s1  @ub_official\\nrt @ub_io: fullbright scholarship untuk s2 dan s3 telah dibuka, silahkan mengunjungi  @ub_official\\nrt @ub_io: british winter education fair. don't miss it. scholarships info and many more @ub_official @ubtv_brawijaya \\nrt @ub_io: international student summit adalah agenda tahunan dikti untuk kompetisi mahasiswa asing dan lokal se-indonesia @ub_official\\nrt @ub_io: sosialisasi international student summit and competition by unair. hari ini kamis 13/10/16 pukul 12.00, di lt8 rektorat. free. @â€¦\\nrt @ub_it: pengumuman jadwal test sertifikasi kompetensi ti gelombang 54\\n\\nrt @ub_io: nuffic neso dan daad menawarkan beasiswa pendidikan untuk s1 hingga s3, summer course, dan pelatihan  @ubâ€¦\\nrt @ub_io: salah satu partner ub, ritsumeikan university membuka short-term exchange program  @ub_official\\nrektor : selamat dan berbahagialah menjadi bagian dari 12.000 mahasiswa baru ub. selamat belajar. #rajabrawijaya2016 #pusaka54\\npelepasan balon oleh rektor dan dirjen dari kemenristekdikti \\ndengan dibunyikannya gong, secara resmi telah dimulainya pelaksanaan pkk-maba 2016 #rajabrawijaya2016 #pusaka54 \\nrektor universitas brawijaya beserta jajaran dan undangan memasuki lapangan upacara #rajabrawijaya2016 #pusaka54\\nayo dukung! \\n#info 4. pintu gerbang dibuka pada selasa, 30 agustus 2016, pukul 09.00 wib-15.30 wib dan 17.00 wib-selesai #rajabrawijaya2016\\n#info 3. pintu gerbang keluar yang dibuka : pintu gerbang pos veteran dan pintu gerbang pos bni'46 #rajabrawijaya2016\\n#info 2. penutupan dilaksanakan pada hari : selasa, 30 agustus 2016, pukul 06.30-09.00 wib dan 15.30-17.00 wib #rajabrawijaya2016\\n#info 1. penutupan jalan masuk pada : pintu gerbang pos veteran, pos bni'46, pos jl, m. haryono (makam) dan pos kpri #rajabrawijaya2016\\n#info sehubungan dengan akan diselenggarakannya pkk-maba #rajabrawijaya2016 dengan ini diberitahukan bahwa :\\n\""
      ]
     },
     "execution_count": 253,
     "metadata": {},
     "output_type": "execute_result"
    }
   ],
   "source": [
    "txt"
   ]
  },
  {
   "cell_type": "code",
   "execution_count": 254,
   "metadata": {},
   "outputs": [],
   "source": [
    "# Menghapus angka\n",
    "txt = re.sub(r'\\d+', '', txt)"
   ]
  },
  {
   "cell_type": "code",
   "execution_count": 255,
   "metadata": {},
   "outputs": [
    {
     "data": {
      "text/plain": [
       "\"siang, bisa langsung ditanyakan ke kebidanan fk ub. terima kasih. \\njadwal kegiatan dies natalis ke- ub. catat tanggalnya dan semarakkan acaranya. \\ncoming soon : rangkaian acara dies natalis ke- universitas brawijaya \\nrt @ub_io: beasiswa aminef untuk pengajar bahasa inggris di ub. deadline aplikasi tanggal  april   @ub_official\\nrt @ub_io: beasiswa untuk training dan studi lanjut ke belgia. @ub_official @ubtv_brawijaya \\nrt @ub_it: periksa soal: cek jawaban kamu.untuk kembali ke soal,klik nomornya.tombol selesai di klik jika semua soal sudah dijawab &amp; nilaiâ€¦\\nrt @ub_it: tes kompetensi ti selama  menit/ soal ( excel, p.point, word). soal tiap orang berbeda krn bank soal lebih dari .â€¦\\nrt @unileveridn: prosesi penutupan bulan kesehatan gigi nasional  di fkg univ brawijaya #bkgn #pepsodent @ub_official @tanyapepsodent @â€¦\\nselamat siang. untuk jadwal penerimaan mahasiswa s bisa dilihat di  atau diâ€¦ \\nrt @kempanrb: bersama korpri meneguhkan netralitas dan meningkatkan profesionalisme aparatur sipil negara. selamat hut korpri ke !! \\nrt @ub_io: sosialisasi studi s dan beasiswa dari swedia. hari ini, .-. di lt. rektorat ub, free entry, kuota terbatas  kursi.â€¦\\nrt @ub_io: kesempatan terbaru untuk studi s dan s di luar negeri dengan beasiswa. informasi lebih lengkap  @ub_offâ€¦\\nrt @ub_io: don't forget, british winter education fair, today . at gedung kebudayaan mahasiswa ub  @ub_official\\nrt @ub_io: program pertukaran pelajar dari aminef untuk d, d dan s  @ub_official\\nrt @ub_io: fullbright scholarship untuk s dan s telah dibuka, silahkan mengunjungi  @ub_official\\nrt @ub_io: british winter education fair. don't miss it. scholarships info and many more @ub_official @ubtv_brawijaya \\nrt @ub_io: international student summit adalah agenda tahunan dikti untuk kompetisi mahasiswa asing dan lokal se-indonesia @ub_official\\nrt @ub_io: sosialisasi international student summit and competition by unair. hari ini kamis // pukul ., di lt rektorat. free. @â€¦\\nrt @ub_it: pengumuman jadwal test sertifikasi kompetensi ti gelombang \\n\\nrt @ub_io: nuffic neso dan daad menawarkan beasiswa pendidikan untuk s hingga s, summer course, dan pelatihan  @ubâ€¦\\nrt @ub_io: salah satu partner ub, ritsumeikan university membuka short-term exchange program  @ub_official\\nrektor : selamat dan berbahagialah menjadi bagian dari . mahasiswa baru ub. selamat belajar. #rajabrawijaya #pusaka\\npelepasan balon oleh rektor dan dirjen dari kemenristekdikti \\ndengan dibunyikannya gong, secara resmi telah dimulainya pelaksanaan pkk-maba  #rajabrawijaya #pusaka \\nrektor universitas brawijaya beserta jajaran dan undangan memasuki lapangan upacara #rajabrawijaya #pusaka\\nayo dukung! \\n#info . pintu gerbang dibuka pada selasa,  agustus , pukul . wib-. wib dan . wib-selesai #rajabrawijaya\\n#info . pintu gerbang keluar yang dibuka : pintu gerbang pos veteran dan pintu gerbang pos bni' #rajabrawijaya\\n#info . penutupan dilaksanakan pada hari : selasa,  agustus , pukul .-. wib dan .-. wib #rajabrawijaya\\n#info . penutupan jalan masuk pada : pintu gerbang pos veteran, pos bni', pos jl, m. haryono (makam) dan pos kpri #rajabrawijaya\\n#info sehubungan dengan akan diselenggarakannya pkk-maba #rajabrawijaya dengan ini diberitahukan bahwa :\\n\""
      ]
     },
     "execution_count": 255,
     "metadata": {},
     "output_type": "execute_result"
    }
   ],
   "source": [
    "txt"
   ]
  },
  {
   "cell_type": "code",
   "execution_count": 256,
   "metadata": {},
   "outputs": [],
   "source": [
    "# Menghilangkan tanda baca\n",
    "txt = re.sub('[^A-Za-z0-9]+', ' ', txt)"
   ]
  },
  {
   "cell_type": "code",
   "execution_count": 257,
   "metadata": {},
   "outputs": [
    {
     "data": {
      "text/plain": [
       "'siang bisa langsung ditanyakan ke kebidanan fk ub terima kasih jadwal kegiatan dies natalis ke ub catat tanggalnya dan semarakkan acaranya coming soon rangkaian acara dies natalis ke universitas brawijaya rt ub io beasiswa aminef untuk pengajar bahasa inggris di ub deadline aplikasi tanggal april ub official rt ub io beasiswa untuk training dan studi lanjut ke belgia ub official ubtv brawijaya rt ub it periksa soal cek jawaban kamu untuk kembali ke soal klik nomornya tombol selesai di klik jika semua soal sudah dijawab amp nilai rt ub it tes kompetensi ti selama menit soal excel p point word soal tiap orang berbeda krn bank soal lebih dari rt unileveridn prosesi penutupan bulan kesehatan gigi nasional di fkg univ brawijaya bkgn pepsodent ub official tanyapepsodent selamat siang untuk jadwal penerimaan mahasiswa s bisa dilihat di atau di rt kempanrb bersama korpri meneguhkan netralitas dan meningkatkan profesionalisme aparatur sipil negara selamat hut korpri ke rt ub io sosialisasi studi s dan beasiswa dari swedia hari ini di lt rektorat ub free entry kuota terbatas kursi rt ub io kesempatan terbaru untuk studi s dan s di luar negeri dengan beasiswa informasi lebih lengkap ub off rt ub io don t forget british winter education fair today at gedung kebudayaan mahasiswa ub ub official rt ub io program pertukaran pelajar dari aminef untuk d d dan s ub official rt ub io fullbright scholarship untuk s dan s telah dibuka silahkan mengunjungi ub official rt ub io british winter education fair don t miss it scholarships info and many more ub official ubtv brawijaya rt ub io international student summit adalah agenda tahunan dikti untuk kompetisi mahasiswa asing dan lokal se indonesia ub official rt ub io sosialisasi international student summit and competition by unair hari ini kamis pukul di lt rektorat free rt ub it pengumuman jadwal test sertifikasi kompetensi ti gelombang rt ub io nuffic neso dan daad menawarkan beasiswa pendidikan untuk s hingga s summer course dan pelatihan ub rt ub io salah satu partner ub ritsumeikan university membuka short term exchange program ub official rektor selamat dan berbahagialah menjadi bagian dari mahasiswa baru ub selamat belajar rajabrawijaya pusaka pelepasan balon oleh rektor dan dirjen dari kemenristekdikti dengan dibunyikannya gong secara resmi telah dimulainya pelaksanaan pkk maba rajabrawijaya pusaka rektor universitas brawijaya beserta jajaran dan undangan memasuki lapangan upacara rajabrawijaya pusaka ayo dukung info pintu gerbang dibuka pada selasa agustus pukul wib wib dan wib selesai rajabrawijaya info pintu gerbang keluar yang dibuka pintu gerbang pos veteran dan pintu gerbang pos bni rajabrawijaya info penutupan dilaksanakan pada hari selasa agustus pukul wib dan wib rajabrawijaya info penutupan jalan masuk pada pintu gerbang pos veteran pos bni pos jl m haryono makam dan pos kpri rajabrawijaya info sehubungan dengan akan diselenggarakannya pkk maba rajabrawijaya dengan ini diberitahukan bahwa '"
      ]
     },
     "execution_count": 257,
     "metadata": {},
     "output_type": "execute_result"
    }
   ],
   "source": [
    "txt"
   ]
  },
  {
   "cell_type": "code",
   "execution_count": 258,
   "metadata": {},
   "outputs": [],
   "source": [
    "# Menghilangkan tanda baca dengan mendefinisikan sebuah fungsi\n",
    "def Punctuation(string):\n",
    "    punctuations = '''!()-[]{};:'\"\\,<>./?@#$%^&*_~''' \n",
    "    for x in string.lower(): \n",
    "        if x in punctuations: \n",
    "            string = string.replace(x, \"\") \n",
    "    print(string) "
   ]
  },
  {
   "cell_type": "code",
   "execution_count": 259,
   "metadata": {},
   "outputs": [
    {
     "name": "stdout",
     "output_type": "stream",
     "text": [
      "siang bisa langsung ditanyakan ke kebidanan fk ub terima kasih jadwal kegiatan dies natalis ke ub catat tanggalnya dan semarakkan acaranya coming soon rangkaian acara dies natalis ke universitas brawijaya rt ub io beasiswa aminef untuk pengajar bahasa inggris di ub deadline aplikasi tanggal april ub official rt ub io beasiswa untuk training dan studi lanjut ke belgia ub official ubtv brawijaya rt ub it periksa soal cek jawaban kamu untuk kembali ke soal klik nomornya tombol selesai di klik jika semua soal sudah dijawab amp nilai rt ub it tes kompetensi ti selama menit soal excel p point word soal tiap orang berbeda krn bank soal lebih dari rt unileveridn prosesi penutupan bulan kesehatan gigi nasional di fkg univ brawijaya bkgn pepsodent ub official tanyapepsodent selamat siang untuk jadwal penerimaan mahasiswa s bisa dilihat di atau di rt kempanrb bersama korpri meneguhkan netralitas dan meningkatkan profesionalisme aparatur sipil negara selamat hut korpri ke rt ub io sosialisasi studi s dan beasiswa dari swedia hari ini di lt rektorat ub free entry kuota terbatas kursi rt ub io kesempatan terbaru untuk studi s dan s di luar negeri dengan beasiswa informasi lebih lengkap ub off rt ub io don t forget british winter education fair today at gedung kebudayaan mahasiswa ub ub official rt ub io program pertukaran pelajar dari aminef untuk d d dan s ub official rt ub io fullbright scholarship untuk s dan s telah dibuka silahkan mengunjungi ub official rt ub io british winter education fair don t miss it scholarships info and many more ub official ubtv brawijaya rt ub io international student summit adalah agenda tahunan dikti untuk kompetisi mahasiswa asing dan lokal se indonesia ub official rt ub io sosialisasi international student summit and competition by unair hari ini kamis pukul di lt rektorat free rt ub it pengumuman jadwal test sertifikasi kompetensi ti gelombang rt ub io nuffic neso dan daad menawarkan beasiswa pendidikan untuk s hingga s summer course dan pelatihan ub rt ub io salah satu partner ub ritsumeikan university membuka short term exchange program ub official rektor selamat dan berbahagialah menjadi bagian dari mahasiswa baru ub selamat belajar rajabrawijaya pusaka pelepasan balon oleh rektor dan dirjen dari kemenristekdikti dengan dibunyikannya gong secara resmi telah dimulainya pelaksanaan pkk maba rajabrawijaya pusaka rektor universitas brawijaya beserta jajaran dan undangan memasuki lapangan upacara rajabrawijaya pusaka ayo dukung info pintu gerbang dibuka pada selasa agustus pukul wib wib dan wib selesai rajabrawijaya info pintu gerbang keluar yang dibuka pintu gerbang pos veteran dan pintu gerbang pos bni rajabrawijaya info penutupan dilaksanakan pada hari selasa agustus pukul wib dan wib rajabrawijaya info penutupan jalan masuk pada pintu gerbang pos veteran pos bni pos jl m haryono makam dan pos kpri rajabrawijaya info sehubungan dengan akan diselenggarakannya pkk maba rajabrawijaya dengan ini diberitahukan bahwa \n"
     ]
    }
   ],
   "source": [
    "# Remove punctuation\n",
    "string = txt\n",
    "Punctuation(string) "
   ]
  },
  {
   "cell_type": "code",
   "execution_count": 260,
   "metadata": {},
   "outputs": [],
   "source": [
    "# White space removal\n",
    "txt = txt.strip()"
   ]
  },
  {
   "cell_type": "code",
   "execution_count": 261,
   "metadata": {},
   "outputs": [
    {
     "data": {
      "text/plain": [
       "'siang bisa langsung ditanyakan ke kebidanan fk ub terima kasih jadwal kegiatan dies natalis ke ub catat tanggalnya dan semarakkan acaranya coming soon rangkaian acara dies natalis ke universitas brawijaya rt ub io beasiswa aminef untuk pengajar bahasa inggris di ub deadline aplikasi tanggal april ub official rt ub io beasiswa untuk training dan studi lanjut ke belgia ub official ubtv brawijaya rt ub it periksa soal cek jawaban kamu untuk kembali ke soal klik nomornya tombol selesai di klik jika semua soal sudah dijawab amp nilai rt ub it tes kompetensi ti selama menit soal excel p point word soal tiap orang berbeda krn bank soal lebih dari rt unileveridn prosesi penutupan bulan kesehatan gigi nasional di fkg univ brawijaya bkgn pepsodent ub official tanyapepsodent selamat siang untuk jadwal penerimaan mahasiswa s bisa dilihat di atau di rt kempanrb bersama korpri meneguhkan netralitas dan meningkatkan profesionalisme aparatur sipil negara selamat hut korpri ke rt ub io sosialisasi studi s dan beasiswa dari swedia hari ini di lt rektorat ub free entry kuota terbatas kursi rt ub io kesempatan terbaru untuk studi s dan s di luar negeri dengan beasiswa informasi lebih lengkap ub off rt ub io don t forget british winter education fair today at gedung kebudayaan mahasiswa ub ub official rt ub io program pertukaran pelajar dari aminef untuk d d dan s ub official rt ub io fullbright scholarship untuk s dan s telah dibuka silahkan mengunjungi ub official rt ub io british winter education fair don t miss it scholarships info and many more ub official ubtv brawijaya rt ub io international student summit adalah agenda tahunan dikti untuk kompetisi mahasiswa asing dan lokal se indonesia ub official rt ub io sosialisasi international student summit and competition by unair hari ini kamis pukul di lt rektorat free rt ub it pengumuman jadwal test sertifikasi kompetensi ti gelombang rt ub io nuffic neso dan daad menawarkan beasiswa pendidikan untuk s hingga s summer course dan pelatihan ub rt ub io salah satu partner ub ritsumeikan university membuka short term exchange program ub official rektor selamat dan berbahagialah menjadi bagian dari mahasiswa baru ub selamat belajar rajabrawijaya pusaka pelepasan balon oleh rektor dan dirjen dari kemenristekdikti dengan dibunyikannya gong secara resmi telah dimulainya pelaksanaan pkk maba rajabrawijaya pusaka rektor universitas brawijaya beserta jajaran dan undangan memasuki lapangan upacara rajabrawijaya pusaka ayo dukung info pintu gerbang dibuka pada selasa agustus pukul wib wib dan wib selesai rajabrawijaya info pintu gerbang keluar yang dibuka pintu gerbang pos veteran dan pintu gerbang pos bni rajabrawijaya info penutupan dilaksanakan pada hari selasa agustus pukul wib dan wib rajabrawijaya info penutupan jalan masuk pada pintu gerbang pos veteran pos bni pos jl m haryono makam dan pos kpri rajabrawijaya info sehubungan dengan akan diselenggarakannya pkk maba rajabrawijaya dengan ini diberitahukan bahwa'"
      ]
     },
     "execution_count": 261,
     "metadata": {},
     "output_type": "execute_result"
    }
   ],
   "source": [
    "txt"
   ]
  },
  {
   "cell_type": "code",
   "execution_count": 229,
   "metadata": {},
   "outputs": [],
   "source": [
    "# import StopWordRemoverFactory class\n",
    "from Sastrawi.StopWordRemover.StopWordRemoverFactory import StopWordRemoverFactory"
   ]
  },
  {
   "cell_type": "code",
   "execution_count": 230,
   "metadata": {},
   "outputs": [],
   "source": [
    "factory = StopWordRemoverFactory()\n",
    "stopword = factory.create_stop_word_remover()"
   ]
  },
  {
   "cell_type": "code",
   "execution_count": 262,
   "metadata": {},
   "outputs": [],
   "source": [
    "# Stopwords dengan menggunakan library Sastrawi\n",
    "txt = stopword.remove(txt)"
   ]
  },
  {
   "cell_type": "code",
   "execution_count": 263,
   "metadata": {},
   "outputs": [
    {
     "data": {
      "text/plain": [
       "'siang langsung ditanyakan kebidanan fk ub terima kasih jadwal kegiatan dies natalis ub catat tanggalnya semarakkan acaranya coming soon rangkaian acara dies natalis universitas brawijaya rt ub io beasiswa aminef pengajar bahasa inggris ub deadline aplikasi tanggal april ub official rt ub io beasiswa training studi lanjut belgia ub official ubtv brawijaya rt ub it periksa soal cek jawaban kamu kembali soal klik nomornya tombol selesai klik semua soal dijawab amp nilai rt ub it tes kompetensi ti selama menit soal excel p point word soal tiap orang berbeda krn bank soal lebih rt unileveridn prosesi penutupan bulan kesehatan gigi nasional fkg univ brawijaya bkgn pepsodent ub official tanyapepsodent selamat siang jadwal penerimaan mahasiswa s dilihat atau rt kempanrb bersama korpri meneguhkan netralitas meningkatkan profesionalisme aparatur sipil negara selamat hut korpri rt ub io sosialisasi studi s beasiswa swedia hari lt rektorat ub free entry kuota terbatas kursi rt ub io kesempatan terbaru studi s s luar negeri beasiswa informasi lebih lengkap ub off rt ub io don t forget british winter education fair today at gedung kebudayaan mahasiswa ub ub official rt ub io program pertukaran pelajar aminef d d s ub official rt ub io fullbright scholarship s s dibuka silahkan mengunjungi ub official rt ub io british winter education fair don t miss it scholarships info and many more ub official ubtv brawijaya rt ub io international student summit agenda tahunan dikti kompetisi mahasiswa asing lokal se indonesia ub official rt ub io sosialisasi international student summit and competition by unair hari kamis pukul di lt rektorat free rt ub it pengumuman jadwal test sertifikasi kompetensi ti gelombang rt ub io nuffic neso daad menawarkan beasiswa pendidikan s hingga s summer course pelatihan ub rt ub io salah satu partner ub ritsumeikan university membuka short term exchange program ub official rektor selamat berbahagialah menjadi bagian mahasiswa baru ub selamat belajar rajabrawijaya pusaka pelepasan balon rektor dirjen kemenristekdikti dibunyikannya gong resmi dimulainya pelaksanaan pkk maba rajabrawijaya pusaka rektor universitas brawijaya beserta jajaran undangan memasuki lapangan upacara rajabrawijaya pusaka ayo dukung info pintu gerbang dibuka selasa agustus pukul wib wib wib selesai rajabrawijaya info pintu gerbang keluar dibuka pintu gerbang pos veteran pintu gerbang pos bni rajabrawijaya info penutupan dilaksanakan hari selasa agustus pukul wib wib rajabrawijaya info penutupan jalan masuk pintu gerbang pos veteran pos bni pos jl m haryono makam pos kpri rajabrawijaya info sehubungan akan diselenggarakannya pkk maba rajabrawijaya ini diberitahukan'"
      ]
     },
     "execution_count": 263,
     "metadata": {},
     "output_type": "execute_result"
    }
   ],
   "source": [
    "txt"
   ]
  },
  {
   "cell_type": "code",
   "execution_count": 266,
   "metadata": {},
   "outputs": [],
   "source": [
    "# Tokenizing degan split\n",
    "txt = re.split(\"\\s\", txt)   "
   ]
  },
  {
   "cell_type": "code",
   "execution_count": 267,
   "metadata": {},
   "outputs": [
    {
     "data": {
      "text/plain": [
       "['siang',\n",
       " 'langsung',\n",
       " 'ditanyakan',\n",
       " 'kebidanan',\n",
       " 'fk',\n",
       " 'ub',\n",
       " 'terima',\n",
       " 'kasih',\n",
       " 'jadwal',\n",
       " 'kegiatan',\n",
       " 'dies',\n",
       " 'natalis',\n",
       " 'ub',\n",
       " 'catat',\n",
       " 'tanggalnya',\n",
       " 'semarakkan',\n",
       " 'acaranya',\n",
       " 'coming',\n",
       " 'soon',\n",
       " 'rangkaian',\n",
       " 'acara',\n",
       " 'dies',\n",
       " 'natalis',\n",
       " 'universitas',\n",
       " 'brawijaya',\n",
       " 'rt',\n",
       " 'ub',\n",
       " 'io',\n",
       " 'beasiswa',\n",
       " 'aminef',\n",
       " 'pengajar',\n",
       " 'bahasa',\n",
       " 'inggris',\n",
       " 'ub',\n",
       " 'deadline',\n",
       " 'aplikasi',\n",
       " 'tanggal',\n",
       " 'april',\n",
       " 'ub',\n",
       " 'official',\n",
       " 'rt',\n",
       " 'ub',\n",
       " 'io',\n",
       " 'beasiswa',\n",
       " 'training',\n",
       " 'studi',\n",
       " 'lanjut',\n",
       " 'belgia',\n",
       " 'ub',\n",
       " 'official',\n",
       " 'ubtv',\n",
       " 'brawijaya',\n",
       " 'rt',\n",
       " 'ub',\n",
       " 'it',\n",
       " 'periksa',\n",
       " 'soal',\n",
       " 'cek',\n",
       " 'jawaban',\n",
       " 'kamu',\n",
       " 'kembali',\n",
       " 'soal',\n",
       " 'klik',\n",
       " 'nomornya',\n",
       " 'tombol',\n",
       " 'selesai',\n",
       " 'klik',\n",
       " 'semua',\n",
       " 'soal',\n",
       " 'dijawab',\n",
       " 'amp',\n",
       " 'nilai',\n",
       " 'rt',\n",
       " 'ub',\n",
       " 'it',\n",
       " 'tes',\n",
       " 'kompetensi',\n",
       " 'ti',\n",
       " 'selama',\n",
       " 'menit',\n",
       " 'soal',\n",
       " 'excel',\n",
       " 'p',\n",
       " 'point',\n",
       " 'word',\n",
       " 'soal',\n",
       " 'tiap',\n",
       " 'orang',\n",
       " 'berbeda',\n",
       " 'krn',\n",
       " 'bank',\n",
       " 'soal',\n",
       " 'lebih',\n",
       " 'rt',\n",
       " 'unileveridn',\n",
       " 'prosesi',\n",
       " 'penutupan',\n",
       " 'bulan',\n",
       " 'kesehatan',\n",
       " 'gigi',\n",
       " 'nasional',\n",
       " 'fkg',\n",
       " 'univ',\n",
       " 'brawijaya',\n",
       " 'bkgn',\n",
       " 'pepsodent',\n",
       " 'ub',\n",
       " 'official',\n",
       " 'tanyapepsodent',\n",
       " 'selamat',\n",
       " 'siang',\n",
       " 'jadwal',\n",
       " 'penerimaan',\n",
       " 'mahasiswa',\n",
       " 's',\n",
       " 'dilihat',\n",
       " 'atau',\n",
       " 'rt',\n",
       " 'kempanrb',\n",
       " 'bersama',\n",
       " 'korpri',\n",
       " 'meneguhkan',\n",
       " 'netralitas',\n",
       " 'meningkatkan',\n",
       " 'profesionalisme',\n",
       " 'aparatur',\n",
       " 'sipil',\n",
       " 'negara',\n",
       " 'selamat',\n",
       " 'hut',\n",
       " 'korpri',\n",
       " 'rt',\n",
       " 'ub',\n",
       " 'io',\n",
       " 'sosialisasi',\n",
       " 'studi',\n",
       " 's',\n",
       " 'beasiswa',\n",
       " 'swedia',\n",
       " 'hari',\n",
       " 'lt',\n",
       " 'rektorat',\n",
       " 'ub',\n",
       " 'free',\n",
       " 'entry',\n",
       " 'kuota',\n",
       " 'terbatas',\n",
       " 'kursi',\n",
       " 'rt',\n",
       " 'ub',\n",
       " 'io',\n",
       " 'kesempatan',\n",
       " 'terbaru',\n",
       " 'studi',\n",
       " 's',\n",
       " 's',\n",
       " 'luar',\n",
       " 'negeri',\n",
       " 'beasiswa',\n",
       " 'informasi',\n",
       " 'lebih',\n",
       " 'lengkap',\n",
       " 'ub',\n",
       " 'off',\n",
       " 'rt',\n",
       " 'ub',\n",
       " 'io',\n",
       " 'don',\n",
       " 't',\n",
       " 'forget',\n",
       " 'british',\n",
       " 'winter',\n",
       " 'education',\n",
       " 'fair',\n",
       " 'today',\n",
       " 'at',\n",
       " 'gedung',\n",
       " 'kebudayaan',\n",
       " 'mahasiswa',\n",
       " 'ub',\n",
       " 'ub',\n",
       " 'official',\n",
       " 'rt',\n",
       " 'ub',\n",
       " 'io',\n",
       " 'program',\n",
       " 'pertukaran',\n",
       " 'pelajar',\n",
       " 'aminef',\n",
       " 'd',\n",
       " 'd',\n",
       " 's',\n",
       " 'ub',\n",
       " 'official',\n",
       " 'rt',\n",
       " 'ub',\n",
       " 'io',\n",
       " 'fullbright',\n",
       " 'scholarship',\n",
       " 's',\n",
       " 's',\n",
       " 'dibuka',\n",
       " 'silahkan',\n",
       " 'mengunjungi',\n",
       " 'ub',\n",
       " 'official',\n",
       " 'rt',\n",
       " 'ub',\n",
       " 'io',\n",
       " 'british',\n",
       " 'winter',\n",
       " 'education',\n",
       " 'fair',\n",
       " 'don',\n",
       " 't',\n",
       " 'miss',\n",
       " 'it',\n",
       " 'scholarships',\n",
       " 'info',\n",
       " 'and',\n",
       " 'many',\n",
       " 'more',\n",
       " 'ub',\n",
       " 'official',\n",
       " 'ubtv',\n",
       " 'brawijaya',\n",
       " 'rt',\n",
       " 'ub',\n",
       " 'io',\n",
       " 'international',\n",
       " 'student',\n",
       " 'summit',\n",
       " 'agenda',\n",
       " 'tahunan',\n",
       " 'dikti',\n",
       " 'kompetisi',\n",
       " 'mahasiswa',\n",
       " 'asing',\n",
       " 'lokal',\n",
       " 'se',\n",
       " 'indonesia',\n",
       " 'ub',\n",
       " 'official',\n",
       " 'rt',\n",
       " 'ub',\n",
       " 'io',\n",
       " 'sosialisasi',\n",
       " 'international',\n",
       " 'student',\n",
       " 'summit',\n",
       " 'and',\n",
       " 'competition',\n",
       " 'by',\n",
       " 'unair',\n",
       " 'hari',\n",
       " 'kamis',\n",
       " 'pukul',\n",
       " 'di',\n",
       " 'lt',\n",
       " 'rektorat',\n",
       " 'free',\n",
       " 'rt',\n",
       " 'ub',\n",
       " 'it',\n",
       " 'pengumuman',\n",
       " 'jadwal',\n",
       " 'test',\n",
       " 'sertifikasi',\n",
       " 'kompetensi',\n",
       " 'ti',\n",
       " 'gelombang',\n",
       " 'rt',\n",
       " 'ub',\n",
       " 'io',\n",
       " 'nuffic',\n",
       " 'neso',\n",
       " 'daad',\n",
       " 'menawarkan',\n",
       " 'beasiswa',\n",
       " 'pendidikan',\n",
       " 's',\n",
       " 'hingga',\n",
       " 's',\n",
       " 'summer',\n",
       " 'course',\n",
       " 'pelatihan',\n",
       " 'ub',\n",
       " 'rt',\n",
       " 'ub',\n",
       " 'io',\n",
       " 'salah',\n",
       " 'satu',\n",
       " 'partner',\n",
       " 'ub',\n",
       " 'ritsumeikan',\n",
       " 'university',\n",
       " 'membuka',\n",
       " 'short',\n",
       " 'term',\n",
       " 'exchange',\n",
       " 'program',\n",
       " 'ub',\n",
       " 'official',\n",
       " 'rektor',\n",
       " 'selamat',\n",
       " 'berbahagialah',\n",
       " 'menjadi',\n",
       " 'bagian',\n",
       " 'mahasiswa',\n",
       " 'baru',\n",
       " 'ub',\n",
       " 'selamat',\n",
       " 'belajar',\n",
       " 'rajabrawijaya',\n",
       " 'pusaka',\n",
       " 'pelepasan',\n",
       " 'balon',\n",
       " 'rektor',\n",
       " 'dirjen',\n",
       " 'kemenristekdikti',\n",
       " 'dibunyikannya',\n",
       " 'gong',\n",
       " 'resmi',\n",
       " 'dimulainya',\n",
       " 'pelaksanaan',\n",
       " 'pkk',\n",
       " 'maba',\n",
       " 'rajabrawijaya',\n",
       " 'pusaka',\n",
       " 'rektor',\n",
       " 'universitas',\n",
       " 'brawijaya',\n",
       " 'beserta',\n",
       " 'jajaran',\n",
       " 'undangan',\n",
       " 'memasuki',\n",
       " 'lapangan',\n",
       " 'upacara',\n",
       " 'rajabrawijaya',\n",
       " 'pusaka',\n",
       " 'ayo',\n",
       " 'dukung',\n",
       " 'info',\n",
       " 'pintu',\n",
       " 'gerbang',\n",
       " 'dibuka',\n",
       " 'selasa',\n",
       " 'agustus',\n",
       " 'pukul',\n",
       " 'wib',\n",
       " 'wib',\n",
       " 'wib',\n",
       " 'selesai',\n",
       " 'rajabrawijaya',\n",
       " 'info',\n",
       " 'pintu',\n",
       " 'gerbang',\n",
       " 'keluar',\n",
       " 'dibuka',\n",
       " 'pintu',\n",
       " 'gerbang',\n",
       " 'pos',\n",
       " 'veteran',\n",
       " 'pintu',\n",
       " 'gerbang',\n",
       " 'pos',\n",
       " 'bni',\n",
       " 'rajabrawijaya',\n",
       " 'info',\n",
       " 'penutupan',\n",
       " 'dilaksanakan',\n",
       " 'hari',\n",
       " 'selasa',\n",
       " 'agustus',\n",
       " 'pukul',\n",
       " 'wib',\n",
       " 'wib',\n",
       " 'rajabrawijaya',\n",
       " 'info',\n",
       " 'penutupan',\n",
       " 'jalan',\n",
       " 'masuk',\n",
       " 'pintu',\n",
       " 'gerbang',\n",
       " 'pos',\n",
       " 'veteran',\n",
       " 'pos',\n",
       " 'bni',\n",
       " 'pos',\n",
       " 'jl',\n",
       " 'm',\n",
       " 'haryono',\n",
       " 'makam',\n",
       " 'pos',\n",
       " 'kpri',\n",
       " 'rajabrawijaya',\n",
       " 'info',\n",
       " 'sehubungan',\n",
       " 'akan',\n",
       " 'diselenggarakannya',\n",
       " 'pkk',\n",
       " 'maba',\n",
       " 'rajabrawijaya',\n",
       " 'ini',\n",
       " 'diberitahukan']"
      ]
     },
     "execution_count": 267,
     "metadata": {},
     "output_type": "execute_result"
    }
   ],
   "source": [
    "txt"
   ]
  }
 ],
 "metadata": {
  "kernelspec": {
   "display_name": "Python 3",
   "language": "python",
   "name": "python3"
  },
  "language_info": {
   "codemirror_mode": {
    "name": "ipython",
    "version": 3
   },
   "file_extension": ".py",
   "mimetype": "text/x-python",
   "name": "python",
   "nbconvert_exporter": "python",
   "pygments_lexer": "ipython3",
   "version": "3.7.4"
  }
 },
 "nbformat": 4,
 "nbformat_minor": 2
}
